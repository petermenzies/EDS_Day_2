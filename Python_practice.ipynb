{
 "cells": [
  {
   "cell_type": "markdown",
   "id": "0997b065",
   "metadata": {},
   "source": [
    "## Introduction to Jupyter Notebooks\n",
    "\n",
    "### Peter Menzies\n",
    "\n",
    "#### EDS 212\n",
    "\n",
    "- bullet points"
   ]
  },
  {
   "cell_type": "code",
   "execution_count": 1,
   "id": "d3b49da6",
   "metadata": {},
   "outputs": [],
   "source": [
    "teddy = 10"
   ]
  },
  {
   "cell_type": "code",
   "execution_count": 2,
   "id": "1e187a89",
   "metadata": {},
   "outputs": [
    {
     "data": {
      "text/plain": [
       "10"
      ]
     },
     "execution_count": 2,
     "metadata": {},
     "output_type": "execute_result"
    }
   ],
   "source": [
    "teddy"
   ]
  },
  {
   "cell_type": "code",
   "execution_count": 3,
   "id": "5ad42b50",
   "metadata": {},
   "outputs": [
    {
     "data": {
      "text/plain": [
       "30"
      ]
     },
     "execution_count": 3,
     "metadata": {},
     "output_type": "execute_result"
    }
   ],
   "source": [
    "teddy + 20"
   ]
  },
  {
   "cell_type": "code",
   "execution_count": 4,
   "id": "865d8984",
   "metadata": {},
   "outputs": [],
   "source": [
    "def myfunction(apples, bananas):\n",
    "    fruit_total = apples + bananas\n",
    "    print(fruit_total)"
   ]
  },
  {
   "cell_type": "code",
   "execution_count": null,
   "id": "ae51e644",
   "metadata": {
    "scrolled": false
   },
   "outputs": [],
   "source": [
    "myfunction(apples = 14, bananas = 18)"
   ]
  },
  {
   "cell_type": "code",
   "execution_count": null,
   "id": "1c13c403",
   "metadata": {},
   "outputs": [],
   "source": []
  }
 ],
 "metadata": {
  "kernelspec": {
   "display_name": "Python 3",
   "language": "python",
   "name": "python3"
  },
  "language_info": {
   "codemirror_mode": {
    "name": "ipython",
    "version": 3
   },
   "file_extension": ".py",
   "mimetype": "text/x-python",
   "name": "python",
   "nbconvert_exporter": "python",
   "pygments_lexer": "ipython3",
   "version": "3.8.8"
  }
 },
 "nbformat": 4,
 "nbformat_minor": 5
}
